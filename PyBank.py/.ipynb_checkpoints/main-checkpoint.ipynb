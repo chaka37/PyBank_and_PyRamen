{
 "cells": [
  {
   "cell_type": "code",
   "execution_count": 1,
   "id": "3a504b6b-4ccf-4fb0-abc9-269df531fb20",
   "metadata": {},
   "outputs": [],
   "source": [
    "from pathlib import Path\n",
    "import csv\n",
    "\n",
    "file_to_load = \"budget_data.csv\"\n",
    "output = \"financial_analysis.txt\"\n",
    "csvpath = Path(r'C:\\Users\\Ldkel\\OneDrive\\Desktop\\FinTech\\Homework\\python-homework\\PyBank.py\\budget_data.csv')\n",
    "Revenue = []\n",
    "line_num = 0 "
   ]
  },
  {
   "cell_type": "code",
   "execution_count": 2,
   "id": "88fac77a-6092-4163-822f-4f5f8e51a616",
   "metadata": {},
   "outputs": [],
   "source": [
    "total_months = 0\n",
    "prev_revenue = 0\n",
    "month_of_change = []\n",
    "revenue_change_list = []\n",
    "greatest_increase = [\"\", 0] \n",
    "greatest_decrease = [\"\", 99999999999999]\n",
    "total_revenue = 0 "
   ]
  },
  {
   "cell_type": "code",
   "execution_count": 3,
   "id": "51eee40e-0600-4105-b591-a6fecf06563c",
   "metadata": {
    "tags": []
   },
   "outputs": [],
   "source": [
    "with open(file_to_load) as csvfile:\n",
    "    \n",
    "    csvreader = csv.reader(csvfile)\n",
    "    \n",
    "    header = next(csvreader)\n",
    "    line_num += 1 \n",
    "    \n",
    "    for row in csvreader:\n",
    "                \n",
    "        # Totals\n",
    "        total_months = total_months + 1\n",
    "        \n",
    "        total_revenue = total_revenue + int(row[1])\n",
    "        \n",
    "        # Average Net Change\n",
    "        revenue_change = int(row[1]) - prev_revenue\n",
    "        prev_revenue = int(row[1]) \n",
    "        revenue_change_list = revenue_change_list + [revenue_change]\n",
    "        month_of_change = month_of_change + [row[0]]\n",
    "        \n",
    "        # Greatest Increase\n",
    "        if (revenue_change > greatest_increase[1]):\n",
    "            greatest_increase[0] = row[0]\n",
    "            greatest_increase[1] = revenue_change\n",
    "            \n",
    "        # Greatest Decrease\n",
    "        if (revenue_change < greatest_decrease[1]):\n",
    "            greatest_decrease[0] = row[0] \n",
    "            greatest_decrease[1] = revenue_change\n",
    "\n",
    "revenue_avg = sum(revenue_change_list) / len(revenue_change_list)\n",
    "\n",
    "output_string = (\n",
    "    f\"\\nFinancial Analysis\\n\"\n",
    "    f\"----------------------------\\n\"\n",
    "    f\"Total Months: {total_months}\\n\"\n",
    "    f\"Total Revenue: ${total_revenue}\\n\"\n",
    "    f\"Average Revenue Change: ${revenue_avg}\\n\"\n",
    "    f\"Greatest Increase in Revenue: {greatest_increase[0]} (${greatest_increase[1]})\\n\"\n",
    "    f\"Greatest Decrease in Revenue: {greatest_decrease[0]} (${greatest_decrease[1]})\\n\")\n",
    "\n",
    "with open(output, \"w\") as txt_file:\n",
    "    txt_file.write(output_string)"
   ]
  }
 ],
 "metadata": {
  "kernelspec": {
   "display_name": "Python 3 (ipykernel)",
   "language": "python",
   "name": "python3"
  },
  "language_info": {
   "codemirror_mode": {
    "name": "ipython",
    "version": 3
   },
   "file_extension": ".py",
   "mimetype": "text/x-python",
   "name": "python",
   "nbconvert_exporter": "python",
   "pygments_lexer": "ipython3",
   "version": "3.7.11"
  }
 },
 "nbformat": 4,
 "nbformat_minor": 5
}
